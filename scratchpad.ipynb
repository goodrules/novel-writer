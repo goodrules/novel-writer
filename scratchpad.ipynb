{
 "cells": [
  {
   "cell_type": "code",
   "execution_count": 5,
   "id": "d38e5d69-c8b9-4a43-94f5-5841d41189fb",
   "metadata": {},
   "outputs": [
    {
     "name": "stdout",
     "output_type": "stream",
     "text": [
      "['/opt/homebrew/Cellar/python@3.11/3.11.10/Frameworks/Python.framework/Versions/3.11/lib/python311.zip', '/opt/homebrew/Cellar/python@3.11/3.11.10/Frameworks/Python.framework/Versions/3.11/lib/python3.11', '/opt/homebrew/Cellar/python@3.11/3.11.10/Frameworks/Python.framework/Versions/3.11/lib/python3.11/lib-dynload', '', '/Users/mikegoodman/Documents/dev/venv/lib/python3.11/site-packages', '/Users/mikegoodman/Documents/dev/repos/ai-hedge-fund', '/Users/mikegoodman/Documents/dev/repos/novel-writer', '/Users/mikegoodman/Documents/dev/repos/novel-writer']\n"
     ]
    }
   ],
   "source": [
    "import sys\n",
    "#sys.path.delete('/Users/mikegoodman/Documents/dev/repos/novel-writer')\n",
    "\n",
    "print(sys.path)  "
   ]
  },
  {
   "cell_type": "code",
   "execution_count": 1,
   "id": "c1ba1e5e-bfc8-4dee-be89-63c2799c2015",
   "metadata": {},
   "outputs": [],
   "source": [
    "# Open the file in read mode\n",
    "with open('prose.txt', 'r') as file:\n",
    "    # Read the entire file content\n",
    "    content = file.read()"
   ]
  },
  {
   "cell_type": "code",
   "execution_count": 3,
   "id": "443fc6cc-305d-4f67-84ef-be4395162dad",
   "metadata": {},
   "outputs": [],
   "source": [
    "#content"
   ]
  },
  {
   "cell_type": "code",
   "execution_count": 4,
   "id": "8b3fc476-a6ab-47fe-8623-504b622be7c3",
   "metadata": {},
   "outputs": [],
   "source": [
    "with open('context/prose.txt', 'r') as file:\n",
    "    custom_prose = file.read()"
   ]
  },
  {
   "cell_type": "code",
   "execution_count": 6,
   "id": "9519e7b6-3a79-4861-af53-0ea87ce80382",
   "metadata": {},
   "outputs": [],
   "source": [
    "#custom_prose"
   ]
  },
  {
   "cell_type": "code",
   "execution_count": null,
   "id": "a94111a3-bb8d-45f2-b7cf-75452c316e49",
   "metadata": {},
   "outputs": [],
   "source": []
  }
 ],
 "metadata": {
  "kernelspec": {
   "display_name": "Python 3 (ipykernel)",
   "language": "python",
   "name": "python3"
  },
  "language_info": {
   "codemirror_mode": {
    "name": "ipython",
    "version": 3
   },
   "file_extension": ".py",
   "mimetype": "text/x-python",
   "name": "python",
   "nbconvert_exporter": "python",
   "pygments_lexer": "ipython3",
   "version": "3.11.10"
  }
 },
 "nbformat": 4,
 "nbformat_minor": 5
}
