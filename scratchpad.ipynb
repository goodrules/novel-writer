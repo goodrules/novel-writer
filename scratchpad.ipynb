{
 "cells": [
  {
   "cell_type": "code",
   "execution_count": 5,
   "id": "d38e5d69-c8b9-4a43-94f5-5841d41189fb",
   "metadata": {},
   "outputs": [
    {
     "name": "stdout",
     "output_type": "stream",
     "text": [
      "['/opt/homebrew/Cellar/python@3.11/3.11.10/Frameworks/Python.framework/Versions/3.11/lib/python311.zip', '/opt/homebrew/Cellar/python@3.11/3.11.10/Frameworks/Python.framework/Versions/3.11/lib/python3.11', '/opt/homebrew/Cellar/python@3.11/3.11.10/Frameworks/Python.framework/Versions/3.11/lib/python3.11/lib-dynload', '', '/Users/mikegoodman/Documents/dev/venv/lib/python3.11/site-packages', '/Users/mikegoodman/Documents/dev/repos/ai-hedge-fund', '/Users/mikegoodman/Documents/dev/repos/novel-writer', '/Users/mikegoodman/Documents/dev/repos/novel-writer']\n"
     ]
    }
   ],
   "source": [
    "import sys\n",
    "#sys.path.delete('/Users/mikegoodman/Documents/dev/repos/novel-writer')\n",
    "\n",
    "print(sys.path)  "
   ]
  },
  {
   "cell_type": "code",
   "execution_count": 1,
   "id": "c1ba1e5e-bfc8-4dee-be89-63c2799c2015",
   "metadata": {},
   "outputs": [],
   "source": [
    "# Open the file in read mode\n",
    "with open('prose.txt', 'r') as file:\n",
    "    # Read the entire file content\n",
    "    content = file.read()"
   ]
  },
  {
   "cell_type": "code",
   "execution_count": 3,
   "id": "443fc6cc-305d-4f67-84ef-be4395162dad",
   "metadata": {},
   "outputs": [],
   "source": [
    "#content"
   ]
  },
  {
   "cell_type": "code",
   "execution_count": 4,
   "id": "8b3fc476-a6ab-47fe-8623-504b622be7c3",
   "metadata": {},
   "outputs": [],
   "source": [
    "with open('context/prose.txt', 'r') as file:\n",
    "    custom_prose = file.read()"
   ]
  },
  {
   "cell_type": "code",
   "execution_count": 6,
   "id": "9519e7b6-3a79-4861-af53-0ea87ce80382",
   "metadata": {},
   "outputs": [],
   "source": [
    "#custom_prose"
   ]
  },
  {
   "cell_type": "code",
   "execution_count": 2,
   "id": "a94111a3-bb8d-45f2-b7cf-75452c316e49",
   "metadata": {},
   "outputs": [],
   "source": [
    "test = '[\\n{\\n\"paragraph-number\": 1,\\n\"paragraph-summary\": \"Under cover of darkness, the team approaches Vera\\'s research facility, using Jason\\'s insider knowledge to bypass the outer security perimeter while discussing their findings from the previous facility.\"\\n},\\n{\\n\"paragraph-number\": 2,\\n\"paragraph-summary\": \"Dillon\\'s analysis of the facility\\'s power consumption patterns reveals unusual energy fluctuations consistent with large-scale magical suppression experiments.\"\\n},\\n{\\n\"paragraph-number\": 3,\\n\"paragraph-summary\": \"The team encounters their first piece of evidence in a testing chamber, where carefully documented experiments show the systematic suppression of test subjects\\' magical abilities.\"\\n},\\n{\\n\"paragraph-number\": 4,\\n\"paragraph-summary\": \"Garrett recognizes his father\\'s distinctive magical signature in the design of a central control panel, triggering memories of watching Michael work in his private laboratory.\"\\n},\\n{\\n\"paragraph-number\": 5,\\n\"paragraph-summary\": \"While examining research logs, they discover detailed notes about corrupting Michael Brand\\'s original programmable magic research into a weapon against the magical community.\"\\n},\\n{\\n\"paragraph-number\": 6,\\n\"paragraph-summary\": \"The facility\\'s main laboratory reveals a massive device combining quantum technology with corrupted magical sigils, designed to selectively target and suppress magical abilities.\"\\n},\\n{\\n\"paragraph-number\": 7,\\n\"paragraph-summary\": \"Jason\\'s expertise helps the team understand the device\\'s control systems, which are based on his mother\\'s modifications to Michael\\'s original research.\"\\n},\\n{\\n\"paragraph-number\": 8,\\n\"paragraph-summary\": \"The team uncovers disturbing documentation of successful experiments where test subjects permanently lost their magical abilities after exposure to the device.\"\\n},\\n{\\n\"paragraph-number\": 9,\\n\"paragraph-summary\": \"Garrett\\'s examination of the device\\'s core reveals components that match blueprints he\\'d seen in his father\\'s workshop, raising new questions about Michael\\'s disappearance.\"\\n},\\n{\\n\"paragraph-number\": 10,\\n\"paragraph-summary\": \"Security footage shows Vera personally overseeing experiments, her clinical detachment evident as she observes subjects losing their magical abilities.\"\\n},\\n{\\n\"paragraph-number\": 11,\\n\"paragraph-summary\": \"The team discovers plans for mass deployment of smaller versions of the device, intended to create \"safe zones\" where unauthorized magic would be impossible.\"\\n},\\n{\\n\"paragraph-number\": 12,\\n\"paragraph-summary\": \"An alert signals Vera\\'s approach to the facility, forcing the team to quickly gather crucial evidence while preparing for confrontation.\"\\n},\\n{\\n\"paragraph-number\": 13,\\n\"paragraph-summary\": \"Vera arrives with a security team, cornering the group in the main laboratory where she reveals her plans to reshape magical society through controlled access to magical ability.\"\\n},\\n{\\n\"paragraph-number\": 14,\\n\"paragraph-summary\": \"Jason faces a crucial moment of choice as his mother demands his help in activating the device, forcing him to choose between family loyalty and his own conscience.\"\\n},\\n{\\n\"paragraph-number\": 15,\\n\"paragraph-summary\": \"The confrontation ends in a desperate escape, with the team securing vital research data that Marie will need to understand and counteract the device\\'s effects.\"\\n}\\n]'"
   ]
  },
  {
   "cell_type": "code",
   "execution_count": 5,
   "id": "11178018-1f3d-403e-a7f7-e9d9f72486f2",
   "metadata": {},
   "outputs": [
    {
     "ename": "JSONDecodeError",
     "evalue": "Expecting ',' delimiter: line 44 column 123 (char 2370)",
     "output_type": "error",
     "traceback": [
      "\u001b[0;31m---------------------------------------------------------------------------\u001b[0m",
      "\u001b[0;31mJSONDecodeError\u001b[0m                           Traceback (most recent call last)",
      "Cell \u001b[0;32mIn[5], line 3\u001b[0m\n\u001b[1;32m      1\u001b[0m \u001b[38;5;28;01mimport\u001b[39;00m \u001b[38;5;21;01mjson\u001b[39;00m\n\u001b[0;32m----> 3\u001b[0m \u001b[43mjson\u001b[49m\u001b[38;5;241;43m.\u001b[39;49m\u001b[43mloads\u001b[49m\u001b[43m(\u001b[49m\u001b[43mtest\u001b[49m\u001b[43m)\u001b[49m\n",
      "File \u001b[0;32m/opt/homebrew/Cellar/python@3.11/3.11.10/Frameworks/Python.framework/Versions/3.11/lib/python3.11/json/__init__.py:346\u001b[0m, in \u001b[0;36mloads\u001b[0;34m(s, cls, object_hook, parse_float, parse_int, parse_constant, object_pairs_hook, **kw)\u001b[0m\n\u001b[1;32m    341\u001b[0m     s \u001b[38;5;241m=\u001b[39m s\u001b[38;5;241m.\u001b[39mdecode(detect_encoding(s), \u001b[38;5;124m'\u001b[39m\u001b[38;5;124msurrogatepass\u001b[39m\u001b[38;5;124m'\u001b[39m)\n\u001b[1;32m    343\u001b[0m \u001b[38;5;28;01mif\u001b[39;00m (\u001b[38;5;28mcls\u001b[39m \u001b[38;5;129;01mis\u001b[39;00m \u001b[38;5;28;01mNone\u001b[39;00m \u001b[38;5;129;01mand\u001b[39;00m object_hook \u001b[38;5;129;01mis\u001b[39;00m \u001b[38;5;28;01mNone\u001b[39;00m \u001b[38;5;129;01mand\u001b[39;00m\n\u001b[1;32m    344\u001b[0m         parse_int \u001b[38;5;129;01mis\u001b[39;00m \u001b[38;5;28;01mNone\u001b[39;00m \u001b[38;5;129;01mand\u001b[39;00m parse_float \u001b[38;5;129;01mis\u001b[39;00m \u001b[38;5;28;01mNone\u001b[39;00m \u001b[38;5;129;01mand\u001b[39;00m\n\u001b[1;32m    345\u001b[0m         parse_constant \u001b[38;5;129;01mis\u001b[39;00m \u001b[38;5;28;01mNone\u001b[39;00m \u001b[38;5;129;01mand\u001b[39;00m object_pairs_hook \u001b[38;5;129;01mis\u001b[39;00m \u001b[38;5;28;01mNone\u001b[39;00m \u001b[38;5;129;01mand\u001b[39;00m \u001b[38;5;129;01mnot\u001b[39;00m kw):\n\u001b[0;32m--> 346\u001b[0m     \u001b[38;5;28;01mreturn\u001b[39;00m \u001b[43m_default_decoder\u001b[49m\u001b[38;5;241;43m.\u001b[39;49m\u001b[43mdecode\u001b[49m\u001b[43m(\u001b[49m\u001b[43ms\u001b[49m\u001b[43m)\u001b[49m\n\u001b[1;32m    347\u001b[0m \u001b[38;5;28;01mif\u001b[39;00m \u001b[38;5;28mcls\u001b[39m \u001b[38;5;129;01mis\u001b[39;00m \u001b[38;5;28;01mNone\u001b[39;00m:\n\u001b[1;32m    348\u001b[0m     \u001b[38;5;28mcls\u001b[39m \u001b[38;5;241m=\u001b[39m JSONDecoder\n",
      "File \u001b[0;32m/opt/homebrew/Cellar/python@3.11/3.11.10/Frameworks/Python.framework/Versions/3.11/lib/python3.11/json/decoder.py:337\u001b[0m, in \u001b[0;36mJSONDecoder.decode\u001b[0;34m(self, s, _w)\u001b[0m\n\u001b[1;32m    332\u001b[0m \u001b[38;5;28;01mdef\u001b[39;00m \u001b[38;5;21mdecode\u001b[39m(\u001b[38;5;28mself\u001b[39m, s, _w\u001b[38;5;241m=\u001b[39mWHITESPACE\u001b[38;5;241m.\u001b[39mmatch):\n\u001b[1;32m    333\u001b[0m \u001b[38;5;250m    \u001b[39m\u001b[38;5;124;03m\"\"\"Return the Python representation of ``s`` (a ``str`` instance\u001b[39;00m\n\u001b[1;32m    334\u001b[0m \u001b[38;5;124;03m    containing a JSON document).\u001b[39;00m\n\u001b[1;32m    335\u001b[0m \n\u001b[1;32m    336\u001b[0m \u001b[38;5;124;03m    \"\"\"\u001b[39;00m\n\u001b[0;32m--> 337\u001b[0m     obj, end \u001b[38;5;241m=\u001b[39m \u001b[38;5;28;43mself\u001b[39;49m\u001b[38;5;241;43m.\u001b[39;49m\u001b[43mraw_decode\u001b[49m\u001b[43m(\u001b[49m\u001b[43ms\u001b[49m\u001b[43m,\u001b[49m\u001b[43m \u001b[49m\u001b[43midx\u001b[49m\u001b[38;5;241;43m=\u001b[39;49m\u001b[43m_w\u001b[49m\u001b[43m(\u001b[49m\u001b[43ms\u001b[49m\u001b[43m,\u001b[49m\u001b[43m \u001b[49m\u001b[38;5;241;43m0\u001b[39;49m\u001b[43m)\u001b[49m\u001b[38;5;241;43m.\u001b[39;49m\u001b[43mend\u001b[49m\u001b[43m(\u001b[49m\u001b[43m)\u001b[49m\u001b[43m)\u001b[49m\n\u001b[1;32m    338\u001b[0m     end \u001b[38;5;241m=\u001b[39m _w(s, end)\u001b[38;5;241m.\u001b[39mend()\n\u001b[1;32m    339\u001b[0m     \u001b[38;5;28;01mif\u001b[39;00m end \u001b[38;5;241m!=\u001b[39m \u001b[38;5;28mlen\u001b[39m(s):\n",
      "File \u001b[0;32m/opt/homebrew/Cellar/python@3.11/3.11.10/Frameworks/Python.framework/Versions/3.11/lib/python3.11/json/decoder.py:353\u001b[0m, in \u001b[0;36mJSONDecoder.raw_decode\u001b[0;34m(self, s, idx)\u001b[0m\n\u001b[1;32m    344\u001b[0m \u001b[38;5;250m\u001b[39m\u001b[38;5;124;03m\"\"\"Decode a JSON document from ``s`` (a ``str`` beginning with\u001b[39;00m\n\u001b[1;32m    345\u001b[0m \u001b[38;5;124;03ma JSON document) and return a 2-tuple of the Python\u001b[39;00m\n\u001b[1;32m    346\u001b[0m \u001b[38;5;124;03mrepresentation and the index in ``s`` where the document ended.\u001b[39;00m\n\u001b[0;32m   (...)\u001b[0m\n\u001b[1;32m    350\u001b[0m \n\u001b[1;32m    351\u001b[0m \u001b[38;5;124;03m\"\"\"\u001b[39;00m\n\u001b[1;32m    352\u001b[0m \u001b[38;5;28;01mtry\u001b[39;00m:\n\u001b[0;32m--> 353\u001b[0m     obj, end \u001b[38;5;241m=\u001b[39m \u001b[38;5;28;43mself\u001b[39;49m\u001b[38;5;241;43m.\u001b[39;49m\u001b[43mscan_once\u001b[49m\u001b[43m(\u001b[49m\u001b[43ms\u001b[49m\u001b[43m,\u001b[49m\u001b[43m \u001b[49m\u001b[43midx\u001b[49m\u001b[43m)\u001b[49m\n\u001b[1;32m    354\u001b[0m \u001b[38;5;28;01mexcept\u001b[39;00m \u001b[38;5;167;01mStopIteration\u001b[39;00m \u001b[38;5;28;01mas\u001b[39;00m err:\n\u001b[1;32m    355\u001b[0m     \u001b[38;5;28;01mraise\u001b[39;00m JSONDecodeError(\u001b[38;5;124m\"\u001b[39m\u001b[38;5;124mExpecting value\u001b[39m\u001b[38;5;124m\"\u001b[39m, s, err\u001b[38;5;241m.\u001b[39mvalue) \u001b[38;5;28;01mfrom\u001b[39;00m \u001b[38;5;28;01mNone\u001b[39;00m\n",
      "\u001b[0;31mJSONDecodeError\u001b[0m: Expecting ',' delimiter: line 44 column 123 (char 2370)"
     ]
    }
   ],
   "source": [
    "import json\n",
    "\n",
    "json.loads(test)"
   ]
  },
  {
   "cell_type": "code",
   "execution_count": null,
   "id": "5e689990-67ea-4a9d-9c35-5691409292a1",
   "metadata": {},
   "outputs": [],
   "source": []
  }
 ],
 "metadata": {
  "kernelspec": {
   "display_name": "Python 3 (ipykernel)",
   "language": "python",
   "name": "python3"
  },
  "language_info": {
   "codemirror_mode": {
    "name": "ipython",
    "version": 3
   },
   "file_extension": ".py",
   "mimetype": "text/x-python",
   "name": "python",
   "nbconvert_exporter": "python",
   "pygments_lexer": "ipython3",
   "version": "3.11.10"
  }
 },
 "nbformat": 4,
 "nbformat_minor": 5
}
