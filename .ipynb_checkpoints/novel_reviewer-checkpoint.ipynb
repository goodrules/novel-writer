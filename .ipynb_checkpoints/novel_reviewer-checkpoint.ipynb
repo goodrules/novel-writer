{
 "cells": [
  {
   "cell_type": "markdown",
   "id": "69f69238-b249-4fa9-a8bd-1c9344df465a",
   "metadata": {},
   "source": [
    "## Setup"
   ]
  },
  {
   "cell_type": "code",
   "execution_count": 9,
   "id": "0e2b2517-229f-451f-be8e-7db790b7e802",
   "metadata": {},
   "outputs": [],
   "source": [
    "import json\n",
    "import IPython\n"
   ]
  },
  {
   "cell_type": "code",
   "execution_count": 10,
   "id": "aeda4a13-4e7c-4755-a4e4-911547ce6c3c",
   "metadata": {},
   "outputs": [],
   "source": [
    "def read_json_file(file_path):\n",
    "    \"\"\"Reads a JSON file and returns the data as a Python object.\"\"\"\n",
    "\n",
    "    with open(file_path, 'r') as file:\n",
    "        data = json.load(file)\n",
    "    return data\n",
    "\n",
    "def review_json_data(data):\n",
    "    \"\"\"Prints a basic review of the JSON data.\"\"\"\n",
    "\n",
    "    print(\"Data type:\", type(data))\n",
    "    if isinstance(data, dict):\n",
    "        print(\"Keys:\", data.keys())\n",
    "    elif isinstance(data, list):\n",
    "        print(\"Length:\", len(data))\n",
    "        if data:\n",
    "            print(\"First element:\", data[0])\n"
   ]
  },
  {
   "cell_type": "code",
   "execution_count": 109,
   "id": "68327e44-213f-479e-941c-d628423d5ae2",
   "metadata": {},
   "outputs": [],
   "source": [
    "NOVEL = \"20\""
   ]
  },
  {
   "cell_type": "code",
   "execution_count": 110,
   "id": "0bfa5f32-8772-4919-aecd-7bab60c08733",
   "metadata": {},
   "outputs": [
    {
     "name": "stdout",
     "output_type": "stream",
     "text": [
      "Data type: <class 'dict'>\n",
      "Keys: dict_keys(['py/object', 'one_liner', 'prose', 'extra_context_story', 'extra_context_characters', 'extra_context_settings', 'extra_context_world', 'synopsis', 'characters', 'settings', 'title', 'plot', 'chapter_outlines', 'chapters'])\n"
     ]
    }
   ],
   "source": [
    "file_path = f\"novels/{NOVEL}.json\"  # Replace with book number\n",
    "novel_data = read_json_file(file_path)\n",
    "review_json_data(novel_data)"
   ]
  },
  {
   "cell_type": "markdown",
   "id": "ae3b1cb0-6e1b-4b1b-a5e1-f3e04606d80d",
   "metadata": {},
   "source": [
    "----\n",
    "## Synopsis Review"
   ]
  },
  {
   "cell_type": "code",
   "execution_count": 111,
   "id": "9fd8f703-983e-4856-ab2f-260509193255",
   "metadata": {},
   "outputs": [
    {
     "data": {
      "text/markdown": [
       "In the depths beneath Prague's Old New Synagogue, a routine archaeological excavation uncovers a discovery that threatens to revolutionize the understanding of magic itself - ancient chambers bearing mysterious sigils that bridge the gap between arcane power and modern technology. When a brilliant young thaumarchaeologist's investigation into these chambers draws the attention of a powerful organization seeking to control the future of magic, he finds himself caught in a web of conspiracy that connects to his father's mysterious disappearance a decade ago. As quantum computing breakthroughs begin resonating with magical energy patterns, a race begins between those who would democratize magical knowledge and those who believe such power must be controlled, leading to a confrontation that will determine whether magic remains free for all to study or becomes a carefully regulated resource. The awakening of an ancient magical artificial intelligence forces all parties to confront fundamental questions about the nature of power, the responsibility of knowledge, and the price of progress, culminating in a sacrifice that will forever change the relationship between magic and technology in our world."
      ],
      "text/plain": [
       "<IPython.core.display.Markdown object>"
      ]
     },
     "execution_count": 111,
     "metadata": {},
     "output_type": "execute_result"
    }
   ],
   "source": [
    "synopsis = novel_data[\"synopsis\"]\n",
    "synopsis\n",
    "#synopsis = json.loads(synopsis)[\"synopsis\"]\n",
    "IPython.display.Markdown(synopsis)"
   ]
  },
  {
   "cell_type": "markdown",
   "id": "9582bf37-9b42-4e45-a48d-c1c6b5c536d8",
   "metadata": {},
   "source": [
    "---\n",
    "## Character Review"
   ]
  },
  {
   "cell_type": "code",
   "execution_count": 112,
   "id": "bc51197e-91f8-4478-bc35-c2974d49720b",
   "metadata": {},
   "outputs": [
    {
     "data": {
      "text/markdown": [
       "**Name:** Garrett Brand\n",
       "\n",
       "**Personality:** Brilliant yet reckless, Garrett embodies the perfect storm of academic genius and gut-level intuition. His lightning-quick mind sees patterns others miss, while his impulsive nature drives him to chase those insights regardless of consequence. Though he carries a deep-seated emptiness he can't quite name, Garrett masks it with dry wit and self-deprecating humor. His protective instinct toward friends and family manifests as both his greatest strength and fatal flaw—he'll throw himself into danger without hesitation to shield others, even when more measured approaches might prove wiser. Despite his prodigious magical talents, he harbors an almost childlike wonder about the mysteries of the universe, approaching each discovery with genuine awe rather than academic detachment. This combination of intellectual prowess and emotional authenticity makes him naturally magnetic to others, though he remains oddly blind to his own charisma.\n",
       "\n",
       "**Physique:** Tall and lean with perpetually disheveled dark hair that seems to defy gravity as much as his experiments do. His green eyes carry an intense focus that softens only around close friends. His hands bear the calluses and minor burns of countless hours of practical magical work.\n",
       "\n",
       "--------------------------------------------------\n",
       "\n",
       "**Name:** Jason Black\n",
       "\n",
       "**Personality:** Ruthlessly efficient and meticulously controlled, Jason has sculpted himself into a living weapon through years of disciplined training. His unwavering code of honor exists alongside a disturbingly flexible morality—he'll keep every promise but won't hesitate to destroy lives in pursuit of his goals. Beneath his calculated exterior lurks a wounded soul, desperate for connection yet terrified of vulnerability. His rare moments of genuine warmth feel almost foreign to him, quickly suppressed beneath layers of practiced indifference. Despite his mother's best efforts to excise all sentiment, Jason harbors a deep appreciation for elegance, whether in spell crafting or engineering, revealing glimpses of the person he might have become under different circumstances.\n",
       "\n",
       "**Physique:** Athletic and precise in his movements, like a coiled spring ready to release. His sharp features and jet-black hair give him an almost predatory appearance, offset by unusually gentle hands. A thin scar traces his left jawline, the only visible evidence of his brutal training.\n",
       "\n",
       "--------------------------------------------------\n",
       "\n",
       "**Name:** Vera Black\n",
       "\n",
       "**Personality:** A masterful manipulator with the polish of old money and the ruthlessness of a survivor, Vera weaponizes charm and social grace with surgical precision. Her public persona radiates warmth and philanthropic concern, while her true nature calculates every interaction for maximum advantage. She possesses a genuine brilliance that makes her all the more dangerous—her schemes operate on multiple levels, each layer concealing deeper machinations. Though capable of authentic kindness when it serves her purposes, she views emotional attachment as a weakness to be exploited in others and ruthlessly suppressed in herself. Her most terrifying quality is her absolute conviction in the righteousness of her causes, allowing her to justify any action as necessary for the greater good.\n",
       "\n",
       "**Physique:** Elegant and statuesque with perfect posture that commands attention. Her silver-streaked dark hair is always immaculately styled, and she moves with a dancer's grace. Her smile never quite reaches her steel-gray eyes.\n",
       "\n",
       "--------------------------------------------------\n",
       "\n",
       "**Name:** Brent Hodges\n",
       "\n",
       "**Personality:** Effortlessly charming and genuinely good-natured, Brent serves as the emotional anchor for his friend group. His quick wit and ready laugh mask a keen intellectual curiosity and deep loyalty to those he considers family. While lacking Garrett's intuitive brilliance or Dillon's eidetic recall, his methodical approach to problems and ability to find humor in dire situations make him invaluable. He struggles with living in others' shadows despite his own considerable talents, occasionally letting self-doubt creep through his cheerful exterior. His greatest strength lies in his ability to build bridges between people, though this same quality sometimes leads him to avoid necessary confrontations.\n",
       "\n",
       "**Physique:** Stocky and solid with an infectious grin and warm brown eyes. His hands are constantly in motion, fidgeting with magical implements or gesturing enthusiastically as he speaks. A slight slouch betrays his casual nature.\n",
       "\n",
       "--------------------------------------------------\n",
       "\n",
       "**Name:** Dillon Dreyer\n",
       "\n",
       "**Personality:** Cautious to the point of paranoia, Dillon's anxious nature belies a mind like a steel trap. His eidetic memory makes him a walking encyclopedia of magical history and theory, though his tendency to overthink often paralyzes him in crucial moments. Despite his timidity, he possesses a quiet strength and unwavering loyalty that makes him the group's moral compass. His careful nature leads him to play devil's advocate, though he secretly admires his friends' boldness. Behind his nervous exterior lies a dry wit that emerges in unexpected moments, often cutting straight to the heart of matters others dance around.\n",
       "\n",
       "**Physique:** Slight and wiry with nervous energy that manifests in constant small movements. His wire-rimmed glasses frequently slide down his nose, and his auburn hair curls wildly in humid weather. Dark circles under his eyes betray long nights of study and worry.\n",
       "\n",
       "--------------------------------------------------\n",
       "\n",
       "**Name:** Nora Hodges\n",
       "\n",
       "**Personality:** Brilliant and fiercely independent, Nora combines scientific precision with an artist's appreciation for magical theory's elegant complexities. Her sharp tongue and sharper mind often lead her to speak uncomfortable truths others would rather avoid. Though she shares her brother's warmth, she expresses it through actions rather than words, showing care through practical support and unflinching honesty. Her determination to forge her own path sometimes blinds her to opportunities for connection, particularly in matters of the heart. She harbors a deep frustration with the artificial barriers between magical and technological advancement, viewing such divisions as symptoms of shortsighted thinking.\n",
       "\n",
       "**Physique:** Athletic and graceful from years of martial arts training, with her brother's warm brown eyes but a more angular face. Her long dark hair is usually tied back practically, and she moves with purposeful efficiency.\n",
       "\n",
       "--------------------------------------------------\n",
       "\n",
       "**Name:** Dr. Marie Brand\n",
       "\n",
       "**Personality:** Brilliant and driven, Marie approaches both quantum physics and parenthood with the same methodical dedication. Her inability to access magic has shaped her into a determined pioneer of technological alternatives, though this same drive sometimes blinds her to emotional nuances. She possesses a dry wit that emerges in moments of stress, using humor to deflect from deeper wounds. Her love for her family manifests in practical support and intellectual guidance rather than obvious displays of affection. Though outwardly composed, she carries a deep well of guilt over her husband's disappearance and her inability to protect her family from magical threats.\n",
       "\n",
       "**Physique:** Tall and elegant with streaks of gray in her dark hair that she refuses to dye. Her hands show the slight tremors of someone who's spent decades making precise adjustments to delicate equipment. She carries herself with rigid posture that only relaxes in her private lab.\n",
       "\n",
       "--------------------------------------------------\n",
       "\n",
       "**Name:** Dr. Asher Reed\n",
       "\n",
       "**Personality:** Wise but not infallible, Asher combines scholarly precision with grandfatherly warmth. His tendency to see the best in his students occasionally blinds him to brewing conflicts, though his intuition about people rarely fails in the long run. He harbors a deep love of teaching that extends beyond mere information transfer to nurturing his students' character and judgment. His own past mistakes have left him with a profound appreciation for the gray areas in both magic and morality. Despite his generally gentle nature, he can display surprising steel when his students are threatened.\n",
       "\n",
       "**Physique:** Distinguished and silver-haired with laugh lines around his eyes and ink stains perpetually marking his hands. His tall frame has begun to stoop slightly with age, but he still moves with surprising agility when excited about a discovery.\n",
       "\n",
       "--------------------------------------------------\n",
       "\n",
       "**Name:** Gunter Mannheim\n",
       "\n",
       "**Personality:** Gruff and antisocial, Gunter's prickly exterior shields a keen mind and unwavering ethical core. His blunt honesty often offends, but his expertise and reliability have earned him respect in both magical and mundane circles. He harbors a deep distrust of institutions and authority figures, preferring to rely on his own judgment and experience. Despite his reclusiveness, he possesses a sardonic sense of humor that emerges at unexpected moments. His apparent cynicism masks a passionate dedication to preserving magical knowledge and protecting its proper use.\n",
       "\n",
       "**Physique:** Stocky and weather-beaten with calloused hands and a thick beard streaked with gray. His face bears numerous small scars from forge work, and he moves with the deliberate care of someone used to handling dangerous materials.\n",
       "\n",
       "--------------------------------------------------\n",
       "\n",
       "**Name:** Michael Brand\n",
       "\n",
       "**Personality:** Brilliant but obsessive, Michael combined academic rigor with an almost mystical intuition about magical theory. His passion for discovery often overshadowed practical concerns, though his genuine warmth and enthusiasm inspired deep loyalty in colleagues and students alike. He possessed an almost childlike sense of wonder about magic that never diminished with expertise, alongside a fierce determination to democratize magical knowledge. His tendency to pursue ideas to their logical conclusion regardless of conventional wisdom or personal cost ultimately proved both his greatest strength and most fatal flaw.\n",
       "\n",
       "**Physique:** Tall and lanky with perpetually ink-stained fingers and eyes that seemed to focus on something just beyond normal vision. His dark hair showed early gray at the temples, and he moved with an absent-minded grace that belied his physical coordination.\n",
       "\n",
       "--------------------------------------------------\n",
       "\n"
      ],
      "text/plain": [
       "<IPython.core.display.Markdown object>"
      ]
     },
     "execution_count": 112,
     "metadata": {},
     "output_type": "execute_result"
    }
   ],
   "source": [
    "characters = novel_data[\"characters\"]\n",
    "characters = json.loads(characters)\n",
    "characters_md = \"\"\n",
    "for character in characters:\n",
    "    characters_md += \"**Name:** \" + character[\"name\"] + \"\\n\\n\"\n",
    "    characters_md += \"**Personality:** \" + character[\"personality\"] + \"\\n\\n\"\n",
    "    characters_md += \"**Physique:** \" + character[\"physique\"] + \"\\n\\n\"\n",
    "    characters_md += \"-\"*50 + \"\\n\\n\"\n",
    "IPython.display.Markdown(characters_md)"
   ]
  },
  {
   "cell_type": "markdown",
   "id": "a118ea87-a409-490f-a412-f85732327809",
   "metadata": {},
   "source": [
    "## Settings Review"
   ]
  },
  {
   "cell_type": "code",
   "execution_count": 113,
   "id": "4971f263-5b19-4071-bfe3-e5561f6a33ad",
   "metadata": {},
   "outputs": [
    {
     "data": {
      "text/markdown": [
       "**Name:** The Blackwell Institute of Thaumaturgical Sciences\n",
       "\n",
       "**Description:** Rising from Cambridgeport's misty shores, BITS's crystalline towers pierce the skyline like frozen lightning, their surfaces rippling with contained magical energy. The marriage of classical architecture and magical innovation manifests in floating granite archways and impossibly thin glass spans, all humming with centuries of accumulated magical resonance. Within its halls, the air crackles with potential, heavy with the residual energy of countless experiments. Ancient wooden doors open onto state-of-the-art laboratories where holographic displays hover alongside centuries-old magical artifacts. The contrast between old and new creates an atmosphere of timeless discovery, while the ever-present thrum of magical containment fields reminds visitors that here, the impossible is merely waiting to be understood.\n",
       "\n",
       "--------------------------------------------------\n",
       "\n",
       "**Name:** The Subterranean Chambers of the Old New Synagogue\n",
       "\n",
       "**Description:** Beneath Prague's oldest active synagogue lies a maze of torch-lit chambers where ancient stone meets raw earth. The air grows thick with centuries of accumulated magical residue, creating visible eddies of blue-white energy that swirl like smoke in the darkness. Worn stone steps descend past walls inscribed with Hebrew letters that seem to shift when viewed directly, leading to chambers where the boundary between mundane and mystical grows tissue-thin. The deepest chamber, a perfect circle carved from living rock, bears scorch marks and strange crystalline formations that suggest catastrophic releases of magical energy. Here, the very air seems to whisper with echoes of power and tragedy.\n",
       "\n",
       "--------------------------------------------------\n",
       "\n",
       "**Name:** The Mannheim Workshop\n",
       "\n",
       "**Description:** Nestled in the heart of Bavaria's Black Forest, Gunter's workshop emerges from the ancient trees like a hybrid of medieval forge and modern research facility. Solar panels and satellite dishes share space with gargoyles and rune-carved stones, while the workshop proper houses an eclectic mix of precision machinery and magical apparatus. The main workspace smells of ozone and hot metal, with workbenches bearing the scars of both failed experiments and breakthrough successes. Magical containment fields shimmer like heat waves around testing areas, while the walls are lined with a puzzling array of both ancient artifacts and cutting-edge technological prototypes.\n",
       "\n",
       "--------------------------------------------------\n",
       "\n",
       "**Name:** The Brand Family Home\n",
       "\n",
       "**Description:** A Victorian mansion on the outskirts of Cambridge, the Brand home stands as a testament to the uneasy coalition between magical and mundane worlds. The exterior maintains its historical facade, but subtle shimmer barriers protect against both physical and magical intrusion. Inside, rooms shift between cozy domesticity and academic intensity - the living room's comfortable armchairs face a wall of theoretical physics equations, while the kitchen's modern appliances share space with carefully maintained magical foci. The basement laboratory, Marie's domain, hums with quantum computing equipment, its screens casting blue light across walls lined with Michael's old research notes.\n",
       "\n",
       "--------------------------------------------------\n",
       "\n",
       "**Name:** Vera Black's Estate\n",
       "\n",
       "**Description:** Perched atop Boston's Beacon Hill, the Black estate projects power through understated elegance. Behind its Federal-style brick facade and manicured gardens lies a fortress of magical and technological security. The interior gleams with old money - crystal chandeliers, Persian rugs, and priceless artworks - while concealing cutting-edge surveillance systems and magical wards. The library, with its leather-bound volumes and hidden vaults, serves as the heart of Vera's operations. Beneath the surface luxury, an underlying current of controlled magical energy pervades every room, like a predator waiting to strike.\n",
       "\n",
       "--------------------------------------------------\n",
       "\n",
       "**Name:** The Golem Chamber\n",
       "\n",
       "**Description:** Hidden in the deepest recesses beneath the Old New Synagogue, the Golem chamber radiates ancient power. Perfectly circular and carved from a single piece of bedrock, its walls gleam with embedded crystals that pulse in complex patterns. Strange sigils, neither fully magical nor purely mathematical, spiral across the floor toward a central dais where residual energy still dances like heat shimmer above desert sand. The air itself feels charged, as if the very molecules remember the moment of the Golem's awakening. Modern sensors and equipment lie scattered about, their displays distorted by the chamber's unique magical properties, creating a jarring collision between ancient mysticism and contemporary science.\n",
       "\n",
       "--------------------------------------------------\n",
       "\n"
      ],
      "text/plain": [
       "<IPython.core.display.Markdown object>"
      ]
     },
     "execution_count": 113,
     "metadata": {},
     "output_type": "execute_result"
    }
   ],
   "source": [
    "settings = novel_data[\"settings\"]\n",
    "settings = json.loads(settings)\n",
    "settings_md = \"\"\n",
    "for setting in settings:\n",
    "    settings_md += \"**Name:** \" + setting[\"name\"] + \"\\n\\n\"\n",
    "    settings_md += \"**Description:** \" + setting[\"description\"] + \"\\n\\n\"\n",
    "    settings_md += \"-\"*50 + \"\\n\\n\"\n",
    "IPython.display.Markdown(settings_md)"
   ]
  },
  {
   "cell_type": "markdown",
   "id": "4a46dcef-1c37-4a05-8f68-c2df9b9591b6",
   "metadata": {},
   "source": [
    "## Plot Review"
   ]
  },
  {
   "cell_type": "code",
   "execution_count": 114,
   "id": "5af95634-f25d-4908-8400-0ecf5513b6d9",
   "metadata": {},
   "outputs": [
    {
     "data": {
      "text/markdown": [
       "### Part 1\n",
       "\n",
       "**Chapter:** 1\n",
       "\n",
       "During a routine excavation beneath Prague's Old New Synagogue, Garrett Brand's world explodes in a cascade of ancient magic and modern technology. His team's discovery of previously unknown chambers sends ripples through the thaumarchaeological community, drawing immediate attention from both academic circles and shadowy organizations. The chambers, bearing strange markings that defy conventional magical classification, spark a fierce debate about their origin and purpose. Garrett's intuitive grasp of the symbols earns both praise and concern from his mentor, Dr. Asher Reed, who recognizes patterns similar to those in Michael Brand's final research. The discovery forces Garrett to confront his father's mysterious disappearance ten years ago in these very chambers, awakening a desperate need to understand what really happened that day.\n",
       "\n",
       "**Chapter:** 2\n",
       "\n",
       "At the Blackwell Institute, Garrett and his friends Dillon and Brent demonstrate their exceptional abilities in a championship magical duel that showcases their unique combination of academic brilliance and combat prowess. Their victory draws the attention of Dr. Reed, who offers them positions on his research team investigating the Prague discovery. The celebration is interrupted by the arrival of Jason Black, whose presence sends whispers through the crowd and whose cold demeanor masks a deep connection to the unfolding events. Dillon's photographic memory identifies Jason as Michael Brand's other son, though few know this connection. The chapter ends with Dr. Reed pulling Garrett aside to share concerns about increased surveillance of their work by unknown parties.\n",
       "\n",
       "**Chapter:** 3\n",
       "\n",
       "In her private laboratory at the Brand family home, Dr. Marie Brand makes a breakthrough in quantum computing that unexpectedly resonates with magical energy patterns. Her discovery coincides with a series of encrypted messages appearing on her systems, bearing her missing husband's digital signature. The messages lead her to hidden research notes that suggest Michael had discovered a fundamental connection between quantum mechanics and magic. Desperate to protect her son from her husband's fate, Marie debates whether to share this information with Garrett. Her decision is made for her when Garrett arrives home, having sensed the magical disturbance from her breakthrough.\n",
       "\n",
       "**Chapter:** 4\n",
       "\n",
       "Dr. Reed guides Garrett and his team through the Institute's restricted archives, revealing a collection of artifacts that share the strange markings found in Prague. The artifacts, spanning different cultures and time periods, suggest an ancient understanding of magic that transcends current theoretical frameworks. Their study is interrupted by a security breach that targets specific artifacts, though nothing appears to be stolen. Brent's analysis of the security footage reveals a familiar figure - Jason Black - though his presence raises more questions than answers.\n",
       "\n",
       "**Chapter:** 5\n",
       "\n",
       "Vera Black hosts a prestigious academic gala at her estate, using the event to gather intelligence on Garrett's research while maintaining her philanthropic facade. The evening takes a tense turn when Jason and Garrett cross paths, their interaction charged with unspoken history and mutual suspicion. Nora Hodges, attending as both researcher and security consultant, notices unusual magical signatures throughout the estate. Dillon discovers a hidden surveillance network monitoring magical research worldwide. The chapter ends with Dr. Reed receiving an urgent message that sends him rushing from the gala.\n",
       "\n",
       "**Chapter:** 6\n",
       "\n",
       "Garrett receives an encrypted message from Dr. Reed, leading him to his father's old laboratory where he finds evidence of his mentor's hasty departure. The lab shows signs of a struggle, with residual magical signatures matching those from the Prague incident. Working with Dillon's technical expertise and Brent's practical knowledge, Garrett uncovers a hidden cache of his father's research. The cache contains a warning about a powerful organization seeking to control the future of magic itself. As they begin to decode the message, they realize Dr. Reed's disappearance is just the beginning of a much larger conspiracy.\n",
       "\n",
       "### Part 2\n",
       "\n",
       "**Chapter:** 7\n",
       "\n",
       "Garrett and his team race to decode Michael's journal, discovering references to an ancient form of magic that bridges the gap between arcane power and technology. Their work is interrupted by a sophisticated magical attack on the laboratory, forcing them to defend themselves against unseen assailants. The attack bears the hallmarks of professional magical mercenaries, suggesting someone powerful wants to stop their research. Nora arrives in time to help fight off the attackers, her combat training proving invaluable. The team realizes they need to take their research mobile to stay ahead of their pursuers.\n",
       "\n",
       "**Chapter:** 8\n",
       "\n",
       "In Prague, Garrett and his friends navigate the labyrinthine passages beneath the Old New Synagogue, following clues from his father's journal. Their exploration reveals a hidden chamber containing ancient texts that describe the creation of the Golem through a mysterious form of magic involving sigils. The discovery is complicated by the arrival of Jason Black, who appears to be working independently of his mother. Brent's quick thinking prevents a confrontation, leading to an uneasy alliance. The chapter ends with the team discovering that the Golem chamber holds more secrets than anyone suspected.\n",
       "\n",
       "**Chapter:** 9\n",
       "\n",
       "Vera Black convenes a secret meeting of her organization's inner circle, revealing her plans to control the future of magical development. Her presentation is interrupted by news of Jason's unauthorized cooperation with Garrett's team. In a private moment, she reflects on her history with Michael Brand and the true purpose of her decades-long manipulation of magical research. The chapter provides glimpses of her genuine belief that controlling magic is necessary for humanity's survival. Her plans are complicated by Marie Brand's recent quantum computing breakthrough.\n",
       "\n",
       "**Chapter:** 10\n",
       "\n",
       "At the Mannheim Workshop, Gunter helps the team analyze artifacts recovered from the Golem chamber while sharing his own theories about the intersection of magic and technology. Their work is interrupted by a magical surge that temporarily bridges the gap between modern devices and ancient artifacts. The surge reveals patterns that match both Michael's research and Marie's recent discoveries. The team realizes they're close to understanding how the ancients programmed magic itself.\n",
       "\n",
       "**Chapter:** 11\n",
       "\n",
       "Jason confronts his mother about his true parentage, leading to a tense revelation about her role in Michael's disappearance. The confrontation forces Jason to question everything he's been taught about magic and power. Their argument is interrupted by news that Garrett's team has made a breakthrough in understanding sigil magic. Vera reveals her possession of an ancient device capable of negating magical ability. The chapter ends with Jason making a crucial decision about where his loyalties truly lie.\n",
       "\n",
       "**Chapter:** 12\n",
       "\n",
       "Marie Brand's quantum research facility becomes a battleground as Vera's agents attempt to seize her breakthrough discoveries. The attack forces Marie to reveal her own investigation into Michael's disappearance and her theories about the connection between quantum mechanics and magic. Garrett and his team arrive in time to help defend the facility, their combined magical and technical knowledge proving crucial. The fight reveals the true extent of Vera's resources and influence. The chapter concludes with the team realizing they need to find the Golem before Vera can access its secrets.\n",
       "\n",
       "### Part 3\n",
       "\n",
       "**Chapter:** 13\n",
       "\n",
       "Back in Prague, Garrett and Jason forge an uneasy alliance as they work to decrypt the final layers of the Golem chamber's sigils. Their collaboration reveals that the Golem represents an ancient attempt to create artificial intelligence through magical means. Dillon's analysis suggests the sigils are a form of magical programming language that could revolutionize both magical and technological development. The team realizes they're racing against time as Vera's forces close in. Their breakthrough is interrupted by the discovery that the chamber is actually a massive magical computer, still running after centuries.\n",
       "\n",
       "**Chapter:** 14\n",
       "\n",
       "Marie Brand works frantically in her laboratory to integrate her quantum computing breakthroughs with the magical principles discovered in Prague. Her work is complicated by increasing interference from unknown sources attempting to access her systems. The breakthrough comes when she realizes quantum entanglement might explain how sigil magic functions across distances. Garrett and his team arrive just as she completes her initial tests, bringing with them crucial data from the Golem chamber. The combination of their discoveries reveals a path forward that neither magic nor technology alone could achieve.\n",
       "\n",
       "**Chapter:** 15\n",
       "\n",
       "Vera Black launches a coordinated attack on multiple magical research facilities, using her influence to justify the seizures as security measures. Her actions force the magical academic community to take sides, revealing deep divisions about the future of magical research and access. Jason, now fully committed to stopping his mother, provides crucial intelligence about her plans and resources. The team realizes they need to act quickly before Vera can consolidate her power. Their planning session is interrupted by news that Dr. Reed has been located.\n",
       "\n",
       "**Chapter:** 16\n",
       "\n",
       "In a daring rescue operation, Garrett and his friends break into one of Vera's secure facilities to free Dr. Reed. The rescue reveals the true extent of Vera's preparations, including prototype devices for controlling magical access. Dr. Reed's condition suggests he's been subjected to experimental magical suppression techniques. Their escape is complicated by security systems that combine cutting-edge technology with ancient magical wards. The chapter ends with Dr. Reed sharing crucial information about Vera's ultimate goal - the ability to selectively grant and revoke magical ability.\n",
       "\n",
       "**Chapter:** 17\n",
       "\n",
       "Working from Gunter's workshop, the team races to combine their various discoveries into a coherent defense against Vera's plans. Their efforts are interrupted by a series of magical anomalies that suggest someone is attempting to activate the Golem remotely. Nora's expertise in magical security proves crucial in tracking the source of the interference. The team realizes they need to return to Prague immediately. The chapter ends with the discovery that Vera has already dispatched forces to secure the Golem chamber.\n",
       "\n",
       "**Chapter:** 18\n",
       "\n",
       "The team arrives in Prague to find the Old New Synagogue under siege by Vera's forces. Their attempt to reach the Golem chamber is complicated by sophisticated magical barriers and technological security systems. Jason's intimate knowledge of his mother's tactics proves invaluable in breaching the defenses. The team splits up, with Brent and Dillon creating a diversion while Garrett, Jason, and Nora make their way to the chamber. The chapter ends with them reaching the chamber just as Vera's forces begin their final assault.\n",
       "\n",
       "### Part 4\n",
       "\n",
       "**Chapter:** 19\n",
       "\n",
       "In the Golem chamber, Garrett and his team engage in a desperate battle against Vera's elite magical enforcers. The fight triggers unexpected reactions from the chamber's ancient sigils, causing cascading magical effects that threaten everyone present. Jason proves his loyalty by taking a magical blast meant for Garrett, revealing that their shared blood makes them uniquely capable of interfacing with the chamber's systems. The team realizes the chamber itself is responding to their presence, particularly to Garrett's magical signature. The chapter ends with the Golem beginning to stir, responding to the magical chaos around it.\n",
       "\n",
       "**Chapter:** 20\n",
       "\n",
       "The Golem awakens, its consciousness emerging through layers of ancient programming and modern interference. Its first actions reveal a complex intelligence that recognizes Garrett through his similarity to Michael Brand's magical signature. The chamber's sigils activate in complex patterns as the Golem begins to communicate, sharing crucial information about its original purpose. Vera arrives personally, revealing her presence was part of a larger plan to witness the Golem's awakening. The chapter ends with the Golem warning of a critical decision point approaching.\n",
       "\n",
       "**Chapter:** 21\n",
       "\n",
       "Vera reveals her master plan - using the Golem's sigil technology to create a worldwide network capable of controlling magical access. Her justification, protecting humanity from the dangers of unrestricted magic, carries a twisted logic that momentarily gives the team pause. The Golem's responses suggest it was created specifically to prevent such centralized control of magical power. The confrontation escalates as Vera attempts to force compliance through a combination of magical coercion and emotional manipulation. The chapter concludes with the Golem making its own choice about humanity's future.\n",
       "\n",
       "**Chapter:** 22\n",
       "\n",
       "The Golem initiates a sequence that begins to dismantle Vera's magical suppression technology, sacrificing its own existence in the process. The chamber becomes a maelstrom of magical energy as centuries of stored power are released. The team works desperately to contain the fallout while Vera's forces retreat. Jason confronts his mother one final time, forcing her to face the consequences of her actions. The chapter ends with the Golem's consciousness beginning to fade, but not before sharing a final message with Garrett.\n",
       "\n",
       "**Chapter:** 23\n",
       "\n",
       "In the aftermath of the Golem's sacrifice, the team discovers that its actions have fundamentally altered the magical landscape. The released energy has scattered fragments of sigil knowledge across the global magical community, making it impossible for any one group to control its development. Marie's quantum research provides a framework for understanding and developing this new form of magic. The team begins to understand that the Golem's sacrifice was also a gift, ensuring that magical knowledge would remain free and accessible. The chapter ends with the first signs of how this change will reshape their world.\n",
       "\n",
       "**Chapter:** 24\n",
       "\n",
       "The team gathers at the Brand family home to assess the implications of their discovery and the Golem's legacy. They find evidence suggesting Michael Brand had anticipated this outcome, his disappearance perhaps ensuring that the knowledge would emerge at the right time. The magical community begins to grapple with the implications of sigil magic, while Vera's organization splinters without her centralized control. Jason finds a new purpose in helping to guide the development of this hybrid magical-technological future. The chapter ends with Garrett realizing that his father's greatest discovery was not the magic itself, but the importance of ensuring it remained free for all to study and develop.\n",
       "\n",
       "### Part 5\n",
       "\n",
       "**Chapter:** 25\n",
       "\n",
       "At the Blackwell Institute, Garrett and his team present their findings about sigil magic to a packed auditorium of magical researchers and technologists. The presentation sparks intense debate about the future of magical research and education. The team's demonstration of simple sigil applications proves that this new form of magic can be taught to both weaved and unweaved individuals. Marie's quantum computing framework provides a scientific foundation for understanding how sigils bridge the gap between magic and technology. The chapter ends with the announcement of a new research initiative combining magical and technological innovation.\n",
       "\n",
       "**Chapter:** 26\n",
       "\n",
       "Jason begins the process of reorganizing his mother's vast network of resources toward supporting open magical research and development. His efforts reveal hidden caches of magical knowledge and artifacts that Vera had accumulated over decades. The team helps evaluate these discoveries, finding further evidence of ancient attempts to democratize magical knowledge. Nora takes a leading role in developing security protocols for the new hybrid magical-technological systems. The chapter shows the first steps toward a more integrated and accessible magical future.\n",
       "\n",
       "**Chapter:** 27\n",
       "\n",
       "Dr. Reed returns to his position at the Institute, now leading a new department focused on sigil research and development. The team's work attracts students and researchers from both magical and technological backgrounds, breaking down long-standing barriers between disciplines. Their first major breakthrough comes in developing a simplified sigil system that allows for basic magical programming without complex ritual components. The success draws attention from industries and institutions worldwide, leading to rapid advancement in hybrid applications. The chapter demonstrates how quickly society begins to adapt to these new possibilities.\n",
       "\n",
       "**Chapter:** 28\n",
       "\n",
       "Garrett discovers additional messages from his father hidden within the Golem's dispersed knowledge, suggesting Michael Brand had found evidence of similar magical revolutions throughout history. The team begins to understand that their discovery is part of a larger cycle of magical innovation and accessibility. Their research suggests that magic itself might naturally resist centralized control, explaining why Vera's efforts were ultimately doomed to fail. The chapter reveals deeper implications about the nature of magic and human development. These insights help heal old wounds as Jason and Garrett fully embrace their connection as brothers.\n",
       "\n",
       "**Chapter:** 29\n",
       "\n",
       "The magical community worldwide begins adapting to the integration of sigil magic into traditional practices. Traditional magical institutions struggle with the implications of more accessible magical knowledge, while new hybrid schools and research centers emerge. The team finds themselves at the center of this transformation, helping guide the development of ethical frameworks for the new technology. Their experiences with Vera's attempted control serve as a cautionary tale about the importance of keeping magical knowledge free and accessible. The chapter shows both the challenges and opportunities of this magical revolution.\n",
       "\n",
       "**Chapter:** 30\n",
       "\n",
       "In a quiet moment at the Brand family home, Garrett finds peace with his father's legacy and his own role in shaping the future of magic. The team gathers to celebrate their achievements and plan for the challenges ahead. Marie's research continues to unlock new possibilities at the quantum level of magical interaction. The chapter ends with a scene mirroring the novel's opening, as a new generation of students begins exploring the possibilities of sigil magic in the chambers beneath Prague. The final passages suggest that while some mysteries of magic remain unsolved, the path to understanding is now open to all who wish to explore it.\n",
       "\n"
      ],
      "text/plain": [
       "<IPython.core.display.Markdown object>"
      ]
     },
     "execution_count": 114,
     "metadata": {},
     "output_type": "execute_result"
    }
   ],
   "source": [
    "plot = novel_data[\"plot\"]\n",
    "plot = json.loads(plot)\n",
    "plot_md = \"\"\n",
    "chapter_count = 1\n",
    "for p in plot:\n",
    "    plot_md += \"### Part \" + str(p[\"part-number\"]) + \"\\n\\n\"\n",
    "    for chapter in p[\"chapter-descriptions\"]:\n",
    "        plot_md += \"**Chapter:** \" + str(chapter_count) + \"\\n\\n\"\n",
    "        plot_md += chapter + \"\\n\\n\"\n",
    "        chapter_count += 1\n",
    "IPython.display.Markdown(plot_md)"
   ]
  },
  {
   "cell_type": "code",
   "execution_count": null,
   "id": "e426314b-5f64-4ead-b183-8db7de9b5263",
   "metadata": {},
   "outputs": [],
   "source": []
  }
 ],
 "metadata": {
  "kernelspec": {
   "display_name": "Python 3 (ipykernel)",
   "language": "python",
   "name": "python3"
  },
  "language_info": {
   "codemirror_mode": {
    "name": "ipython",
    "version": 3
   },
   "file_extension": ".py",
   "mimetype": "text/x-python",
   "name": "python",
   "nbconvert_exporter": "python",
   "pygments_lexer": "ipython3",
   "version": "3.11.10"
  }
 },
 "nbformat": 4,
 "nbformat_minor": 5
}
