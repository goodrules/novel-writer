{
 "cells": [
  {
   "cell_type": "code",
   "execution_count": 2,
   "id": "d38e5d69-c8b9-4a43-94f5-5841d41189fb",
   "metadata": {},
   "outputs": [
    {
     "name": "stdout",
     "output_type": "stream",
     "text": [
      "['/opt/homebrew/Cellar/python@3.11/3.11.10/Frameworks/Python.framework/Versions/3.11/lib/python311.zip', '/opt/homebrew/Cellar/python@3.11/3.11.10/Frameworks/Python.framework/Versions/3.11/lib/python3.11', '/opt/homebrew/Cellar/python@3.11/3.11.10/Frameworks/Python.framework/Versions/3.11/lib/python3.11/lib-dynload', '', '/Users/mikegoodman/Documents/dev/venv/lib/python3.11/site-packages', '/Users/mikegoodman/Documents/dev/repos/ai-hedge-fund', '/Users/mikegoodman/Documents/dev/repos/novel-writer']\n"
     ]
    }
   ],
   "source": [
    "import sys\n",
    "sys.path.append('/Users/mikegoodman/Documents/dev/repos/novel-writer')\n",
    "\n",
    "print(sys.path)  "
   ]
  },
  {
   "cell_type": "code",
   "execution_count": null,
   "id": "c1ba1e5e-bfc8-4dee-be89-63c2799c2015",
   "metadata": {},
   "outputs": [],
   "source": []
  }
 ],
 "metadata": {
  "kernelspec": {
   "display_name": "Python 3 (ipykernel)",
   "language": "python",
   "name": "python3"
  },
  "language_info": {
   "codemirror_mode": {
    "name": "ipython",
    "version": 3
   },
   "file_extension": ".py",
   "mimetype": "text/x-python",
   "name": "python",
   "nbconvert_exporter": "python",
   "pygments_lexer": "ipython3",
   "version": "3.11.10"
  }
 },
 "nbformat": 4,
 "nbformat_minor": 5
}
