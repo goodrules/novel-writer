{
 "cells": [
  {
   "cell_type": "markdown",
   "id": "69f69238-b249-4fa9-a8bd-1c9344df465a",
   "metadata": {},
   "source": [
    "## Setup"
   ]
  },
  {
   "cell_type": "code",
   "execution_count": 9,
   "id": "0e2b2517-229f-451f-be8e-7db790b7e802",
   "metadata": {},
   "outputs": [],
   "source": [
    "import json\n",
    "import IPython\n"
   ]
  },
  {
   "cell_type": "code",
   "execution_count": 10,
   "id": "aeda4a13-4e7c-4755-a4e4-911547ce6c3c",
   "metadata": {},
   "outputs": [],
   "source": [
    "def read_json_file(file_path):\n",
    "    \"\"\"Reads a JSON file and returns the data as a Python object.\"\"\"\n",
    "\n",
    "    with open(file_path, 'r') as file:\n",
    "        data = json.load(file)\n",
    "    return data\n",
    "\n",
    "def review_json_data(data):\n",
    "    \"\"\"Prints a basic review of the JSON data.\"\"\"\n",
    "\n",
    "    print(\"Data type:\", type(data))\n",
    "    if isinstance(data, dict):\n",
    "        print(\"Keys:\", data.keys())\n",
    "    elif isinstance(data, list):\n",
    "        print(\"Length:\", len(data))\n",
    "        if data:\n",
    "            print(\"First element:\", data[0])\n"
   ]
  },
  {
   "cell_type": "code",
   "execution_count": 115,
   "id": "68327e44-213f-479e-941c-d628423d5ae2",
   "metadata": {},
   "outputs": [],
   "source": [
    "NOVEL = \"22\""
   ]
  },
  {
   "cell_type": "code",
   "execution_count": 116,
   "id": "0bfa5f32-8772-4919-aecd-7bab60c08733",
   "metadata": {},
   "outputs": [
    {
     "name": "stdout",
     "output_type": "stream",
     "text": [
      "Data type: <class 'dict'>\n",
      "Keys: dict_keys(['py/object', 'one_liner', 'prose', 'extra_context_story', 'extra_context_characters', 'extra_context_settings', 'extra_context_world', 'synopsis', 'characters', 'settings', 'title', 'plot', 'chapter_outlines', 'chapters'])\n"
     ]
    }
   ],
   "source": [
    "file_path = f\"novels/{NOVEL}.json\"  # Replace with book number\n",
    "novel_data = read_json_file(file_path)\n",
    "review_json_data(novel_data)"
   ]
  },
  {
   "cell_type": "markdown",
   "id": "ae3b1cb0-6e1b-4b1b-a5e1-f3e04606d80d",
   "metadata": {},
   "source": [
    "----\n",
    "## Synopsis Review"
   ]
  },
  {
   "cell_type": "code",
   "execution_count": 117,
   "id": "9fd8f703-983e-4856-ab2f-260509193255",
   "metadata": {},
   "outputs": [
    {
     "data": {
      "text/markdown": [
       "In a world where magic and technology coexist uneasily, a brilliant young thaumarchaeologist with the rare ability to wield both spells and auras discovers ancient artifacts that could revolutionize the relationship between quantum physics and magical theory. When these discoveries attract the attention of a powerful figure who seeks to control access to magical abilities through advanced technology, the young researcher must race against time to prevent the monopolization of magical power while uncovering the truth about his father's mysterious disappearance years ago. Together with a team of loyal friends and unexpected allies, including a long-lost brother raised by the opposition, he delves into the secrets of Prague's ancient magical history, where they discover an artificially intelligent golem that bridges the gap between technological and magical innovation. As ancient powers collide with modern ambitions beneath Prague's streets, the team must prevent a device capable of negating magical abilities from falling into the wrong hands, all while grappling with revelations about family loyalty, quantum-magical theory, and the true purpose of one of history's most enigmatic magical constructs."
      ],
      "text/plain": [
       "<IPython.core.display.Markdown object>"
      ]
     },
     "execution_count": 117,
     "metadata": {},
     "output_type": "execute_result"
    }
   ],
   "source": [
    "synopsis = novel_data[\"synopsis\"]\n",
    "synopsis\n",
    "#synopsis = json.loads(synopsis)[\"synopsis\"]\n",
    "IPython.display.Markdown(synopsis)"
   ]
  },
  {
   "cell_type": "markdown",
   "id": "9582bf37-9b42-4e45-a48d-c1c6b5c536d8",
   "metadata": {},
   "source": [
    "---\n",
    "## Character Review"
   ]
  },
  {
   "cell_type": "code",
   "execution_count": 118,
   "id": "bc51197e-91f8-4478-bc35-c2974d49720b",
   "metadata": {},
   "outputs": [
    {
     "data": {
      "text/markdown": [
       "**Name:** Garrett Brand\n",
       "\n",
       "**Personality:** Brilliant and instinctive, Garrett possesses an uncanny ability to perceive patterns that others miss, coupled with a reckless confidence that somehow works in his favor more often than not. His intellectual prowess is tempered by an endearing humility, though his tendency to act on gut feelings frequently frustrates his more methodical colleagues. Fiercely protective of those he cares about, Garrett's loyalty sometimes blinds him to broader consequences. He carries a deep-seated need to prove himself, perhaps stemming from his father's disappearance, which manifests in an almost compulsive drive to push magical boundaries. Despite his remarkable abilities, he often downplays his achievements, particularly his rare mastery of both spells and auras. His emotional intelligence sometimes lags behind his intellectual capabilities, especially evident in his obliviousness to romantic situations.\n",
       "\n",
       "**Physique:** Tall and lean with perpetually disheveled dark hair that seems to defy gravity, much like the physics he studies. His green eyes carry an intense focus that softens only around close friends. His hands bear the slight scarring typical of experimental magic users, and he moves with the practiced grace of a trained duelist.\n",
       "\n",
       "--------------------------------------------------\n",
       "\n",
       "**Name:** Jason Black\n",
       "\n",
       "**Personality:** Ruthlessly efficient and meticulously calculated, Jason approaches life like a complex equation to be solved. His manufactured charm masks a deep-seated emotional isolation, carefully cultivated by years of manipulation. Despite his cold exterior, he harbors an unshakeable personal code of honor—never breaking promises and always settling debts—that hints at a more complex moral framework beneath his calculated facade. Genuine kindness confuses and unsettles him, creating cracks in his carefully constructed walls that he struggles to repair. His perfectionism borders on obsessive, driving him to excel while simultaneously isolating him from genuine connections. Beneath his controlled exterior lurks a simmering rage at perceived abandonment, though he'd never admit to such vulnerability.\n",
       "\n",
       "**Physique:** Athletic and imposing with precisely maintained black hair and sharp features that seem carved from marble. His posture remains impeccable even in casual situations, and his movements carry a predatory efficiency. Steel-gray eyes rarely reveal emotion, instead calculating and assessing everything they see.\n",
       "\n",
       "--------------------------------------------------\n",
       "\n",
       "**Name:** Vera Black\n",
       "\n",
       "**Personality:** A master manipulator with a razor-sharp intellect, Vera wields charm and social grace like precisely calibrated weapons. Her public persona radiates warmth and philanthropy, while her true nature remains coldly calculating and ruthlessly ambitious. She possesses an almost supernatural patience in pursuing her goals, willing to nurture plans for decades. Her genuine appreciation for intelligence and capability makes her an excellent mentor, though she views people primarily as assets to be cultivated or obstacles to be removed. She harbors a deep-seated belief in her own superiority and right to power, masked by a carefully cultivated image of benevolent leadership. Her capacity for cruelty is matched only by her ability to justify it as necessary for the greater good.\n",
       "\n",
       "**Physique:** Elegant and statuesque with silver-streaked black hair always styled to perfection. Her movements are deliberately graceful, and she carries herself with an aristocratic bearing that commands attention. Her striking features seem to have only grown more refined with age.\n",
       "\n",
       "--------------------------------------------------\n",
       "\n",
       "**Name:** Brent Hodges\n",
       "\n",
       "**Personality:** Effortlessly charismatic with a quick wit and ready laugh, Brent serves as the social glue binding his friend group together. His apparent casualness masks a brilliant mind that simply prefers to approach life with levity rather than intensity. While his humor often defuses tense situations, he sometimes uses it as a shield to avoid confronting serious issues. Deeply loyal but occasionally too willing to go along with others' plans, his easy-going nature can sometimes prevent him from taking a needed stand. His genuine interest in others and ability to find humor in almost any situation makes him universally likeable, though some mistake his light-heartedness for lack of depth.\n",
       "\n",
       "**Physique:** Stocky and solid with an infectious grin and warm brown eyes that crinkle at the corners from frequent laughter. His movements carry a surprising agility despite his sturdy frame, and he maintains a relaxed posture that puts others at ease.\n",
       "\n",
       "--------------------------------------------------\n",
       "\n",
       "**Name:** Dillon Dreyer\n",
       "\n",
       "**Personality:** Cautious and analytical with an eidetic memory that serves as both blessing and curse, Dillon approaches life with careful consideration and historical context. His natural timidity masks a keen intelligence that often sees potential problems others miss. While his role as voice of reason is valuable, he sometimes allows his fears to override opportunities for growth or adventure. His loyalty to friends runs deep enough to overcome his natural caution, though he never stops calculating risks. His extensive knowledge of magical history makes him a walking encyclopedia, but he struggles to trust his own intuition over documented facts.\n",
       "\n",
       "**Physique:** Slight and wiry with nervous energy that manifests in constant small movements. His thin face is often cast downward in thought or concentration, and wire-rimmed glasses frequently slide down his nose. His hands fidget constantly with whatever's nearby.\n",
       "\n",
       "--------------------------------------------------\n",
       "\n",
       "**Name:** Dr. Marie Brand\n",
       "\n",
       "**Personality:** Brilliant and focused with an unwavering dedication to scientific progress, Marie approaches both quantum physics and personal relationships with the same analytical precision. Her determination to bridge the gap between magic and technology stems from a deep-seated desire to prove that being unweaved doesn't mean being powerless. While her intellectual achievements are remarkable, she struggles with emotional expression, often retreating into work when faced with personal challenges. Her love for her son manifests in high expectations and practical support rather than obvious affection. Despite her rational approach to life, she harbors a quiet hope that her missing husband might someday return.\n",
       "\n",
       "**Physique:** Average height with prematurely gray hair usually pulled back in a practical bun. She moves with quick, purposeful efficiency, and her hands often sketch equations in the air as she thinks. Her face carries the focused intensity of someone constantly solving complex problems.\n",
       "\n",
       "--------------------------------------------------\n",
       "\n",
       "**Name:** Dr. Asher Reed\n",
       "\n",
       "**Personality:** Wise and patient with a gentle authority that commands respect without demanding it, Asher balances academic brilliance with genuine compassion. His role as mentor comes naturally, though he sometimes carries the weight of knowing more than he can reveal. Despite his generally calm demeanor, he harbors a fierce protectiveness toward his students and godchildren that can spark unexpected intensity. His humor tends toward the subtle and academic, often dropping historical references that few catch. While generally forthright, he struggles with the burden of keeping certain secrets, particularly about family connections.\n",
       "\n",
       "**Physique:** Tall and distinguished with a neatly trimmed silver beard and kind eyes that miss nothing. His movements are deliberate and graceful, suggesting years of magical practice. He carries himself with natural dignity that draws attention in any room.\n",
       "\n",
       "--------------------------------------------------\n",
       "\n",
       "**Name:** Nora Hodges\n",
       "\n",
       "**Personality:** Brilliant and determined with a pragmatic approach to both science and relationships, Nora refuses to let her feelings interfere with her goals. Her sharp intellect is matched by an equally sharp tongue when provoked, though she generally maintains careful control over her emotions. While fiercely independent, she harbors a deep loyalty to both her brother and their shared friend group. Her practical nature sometimes clashes with more idealistic approaches, leading to friction even as she works toward common goals. Despite her focus on logic and reason, she struggles with complicated emotions regarding Garrett that she can't simply analyze away.\n",
       "\n",
       "**Physique:** Petite but athletic with short-cropped dark hair that defies traditional styling. Her quick, precise movements reflect her analytical mind, and her expressive eyes often betray thoughts she tries to keep hidden. She carries herself with a confident efficiency that suggests constant forward momentum.\n",
       "\n",
       "--------------------------------------------------\n",
       "\n",
       "**Name:** Gunter Mannheim\n",
       "\n",
       "**Personality:** Gruff and solitary with a hidden depth of knowledge and unexpected wit, Gunter presents a deliberately uninviting exterior to the world. His apparent misanthropy masks a strict personal code of ethics and surprising loyalty to those who earn his trust. Years of working with magical artifacts have left him with a healthy skepticism and a somewhat cynical worldview, though his dry humor occasionally breaks through. While he prefers solitude, his expertise makes him an invaluable ally, and he takes his responsibilities seriously once committed. His blunt honesty can be both refreshing and abrasive, and he makes no apologies for either.\n",
       "\n",
       "**Physique:** Stocky and weathered with calloused hands and a thick beard streaked with gray. His movements are surprisingly delicate when handling artifacts, contrasting with his otherwise bearlike appearance. Deep lines around his eyes suggest years spent squinting at detailed work.\n",
       "\n",
       "--------------------------------------------------\n",
       "\n"
      ],
      "text/plain": [
       "<IPython.core.display.Markdown object>"
      ]
     },
     "execution_count": 118,
     "metadata": {},
     "output_type": "execute_result"
    }
   ],
   "source": [
    "characters = novel_data[\"characters\"]\n",
    "characters = json.loads(characters)\n",
    "characters_md = \"\"\n",
    "for character in characters:\n",
    "    characters_md += \"**Name:** \" + character[\"name\"] + \"\\n\\n\"\n",
    "    characters_md += \"**Personality:** \" + character[\"personality\"] + \"\\n\\n\"\n",
    "    characters_md += \"**Physique:** \" + character[\"physique\"] + \"\\n\\n\"\n",
    "    characters_md += \"-\"*50 + \"\\n\\n\"\n",
    "IPython.display.Markdown(characters_md)"
   ]
  },
  {
   "cell_type": "markdown",
   "id": "a118ea87-a409-490f-a412-f85732327809",
   "metadata": {},
   "source": [
    "## Settings Review"
   ]
  },
  {
   "cell_type": "code",
   "execution_count": 119,
   "id": "4971f263-5b19-4071-bfe3-e5561f6a33ad",
   "metadata": {},
   "outputs": [
    {
     "data": {
      "text/markdown": [
       "**Name:** The Blackwell Institute of Thaumaturgical Sciences\n",
       "\n",
       "**Description:** Rising from Cambridgeport's misty shores, BITS's crystalline towers pierce the skyline like frozen lightning, their surfaces seamlessly blending ancient granite with modern smart glass. Sustained levitation spells create impossible architectural features - floating walkways, inverted lecture halls, and gravity-defying research chambers that rotate to optimize magical energy collection. The sprawling campus pulses with an otherworldly energy, dark matter manipulation leaving visible ripples in the air around its specialized research facilities. Underground, a labyrinth of laboratories houses everything from quantum computing arrays to ancient magical artifacts, their protective wards casting an eerie blue glow through reinforced windows. The central courtyard features a massive dark matter fountain, its swirling energies serving as both power source and artistic centerpiece, while the surrounding gardens contain carefully maintained specimens of magically enhanced flora used in advanced spellcraft research.\n",
       "\n",
       "--------------------------------------------------\n",
       "\n",
       "**Name:** The Golem's Chamber\n",
       "\n",
       "**Description:** Deep beneath Prague's Old New Synagogue lies a vast circular chamber carved from raw bedrock, its walls etched with thousands of interlocking sigils that pulse with a faint, amber light. Ancient Hebrew inscriptions spiral outward from the center, where a raised dais of polished obsidian reflects the chamber's dim illumination. The air thrums with residual magical energy, making conventional electronics sputter and die. Massive copper conductors, green with age, thread through the walls like metallic veins, converging on a central platform where the Golem once stood. The chamber's acoustics create unsettling harmonics, with whispered words echoing for minutes in overlapping waves. Modern security systems clash jarringly with medieval architecture, while scattered research equipment and hastily abandoned notes suggest recent clandestine activity.\n",
       "\n",
       "--------------------------------------------------\n",
       "\n",
       "**Name:** Vera Black's Private Sanctuary\n",
       "\n",
       "**Description:** Occupying the entire top floor of a restored Victorian mansion in Boston's Beacon Hill, this opulent space serves as both home and command center for Vera's operations. Floor-to-ceiling windows offer commanding views of the city, their glass enchanted to appear normal from outside while providing one-way transparency and magical shielding. The interior combines classic luxury with cutting-edge magical technology - antique Persian rugs hover inches above heated marble floors, while holographic displays project magical energy patterns across hand-carved mahogany panels. A private library houses rare grimoires and forbidden texts behind magically-locked crystal cases, their spines glowing with contained power. The air carries the sharp ozone scent of active spellcraft, mixed with expensive perfume and old money.\n",
       "\n",
       "--------------------------------------------------\n",
       "\n",
       "**Name:** The Underground Dueling Arena\n",
       "\n",
       "**Description:** Concealed beneath an abandoned warehouse in South Boston's industrial district, this illegal arena draws the city's magical underground to its weekly fights. Magical dampening fields contain the duels while allowing spectators to feel the raw energy of combat. The octagonal space features elevated viewing galleries protected by shimmering force fields, their surfaces reflecting the multicolored bursts of spell combat below. Scorch marks and magical residue stain the reinforced walls, telling stories of countless battles. The air crackles with anticipation and residual energy, while the ground itself seems to pulse with the accumulated power of thousands of magical conflicts. Betting stations equipped with both modern technology and magical verification systems line the walls, their displays casting a harsh electronic glow over the otherwise dimly lit space.\n",
       "\n",
       "--------------------------------------------------\n",
       "\n",
       "**Name:** Michael Brand's Hidden Workshop\n",
       "\n",
       "**Description:** Tucked away in a sub-basement of BITS's oldest building, this forgotten space remains frozen in time since Michael's disappearance. Experimental apparatus covered in dust creates abstract shadows in the dim light, while half-finished projects litter workbenches in arrested development. Magical containment fields still hum softly, preserving volatile experiments exactly as they were left. The walls are covered with whiteboards filled with dense equations combining quantum mechanics and magical theory, their contents protected by preservation spells that have kept the ink from fading. A sophisticated security system integrating both technological and magical elements guards the entrance, while the air itself feels charged with untapped potential. Personal touches - a cold cup of coffee, a family photo, an open notebook - suggest the space was abandoned mid-thought, its secrets waiting to be uncovered.\n",
       "\n",
       "--------------------------------------------------\n",
       "\n",
       "**Name:** The Quantum-Magical Research Facility\n",
       "\n",
       "**Description:** Located in a nondescript office park outside Cambridge, this cutting-edge facility houses Marie Brand's groundbreaking research. The building's exterior projects an aura of corporate anonymity, but inside, reality seems to bend and twist as quantum effects intersect with magical fields. The main laboratory features a massive quantum computer suspended in a column of pure magical energy, its qubits manipulated by both code and spellcraft. Observation chambers lined with spell-reinforced lead allow researchers to safely monitor experiments where quantum uncertainty meets magical probability. The air shimmer with barely-contained power, while specialized sensors track the intersection of particle physics and thaumaturgical energies. The facility's heart is a perfectly circular chamber where a ring of superconducting magnets meets a circle of magical focus crystals, creating a space where the laws of both science and magic can be pushed to their limits.\n",
       "\n",
       "--------------------------------------------------\n",
       "\n"
      ],
      "text/plain": [
       "<IPython.core.display.Markdown object>"
      ]
     },
     "execution_count": 119,
     "metadata": {},
     "output_type": "execute_result"
    }
   ],
   "source": [
    "settings = novel_data[\"settings\"]\n",
    "settings = json.loads(settings)\n",
    "settings_md = \"\"\n",
    "for setting in settings:\n",
    "    settings_md += \"**Name:** \" + setting[\"name\"] + \"\\n\\n\"\n",
    "    settings_md += \"**Description:** \" + setting[\"description\"] + \"\\n\\n\"\n",
    "    settings_md += \"-\"*50 + \"\\n\\n\"\n",
    "IPython.display.Markdown(settings_md)"
   ]
  },
  {
   "cell_type": "markdown",
   "id": "4a46dcef-1c37-4a05-8f68-c2df9b9591b6",
   "metadata": {},
   "source": [
    "## Plot Review"
   ]
  },
  {
   "cell_type": "code",
   "execution_count": 120,
   "id": "5af95634-f25d-4908-8400-0ecf5513b6d9",
   "metadata": {},
   "outputs": [
    {
     "data": {
      "text/markdown": [
       "### Part 1\n",
       "\n",
       "**Chapter:** 1\n",
       "\n",
       "In the underground dueling arena, Garrett Brand leads his team to victory in an unsanctioned magical tournament, showcasing his unique ability to wield both spells and auras with devastating effect. The victory draws unwanted attention from Vera Black, who watches from the shadows while collecting data on Garrett's unusual abilities. Dillon's strategic planning and Brent's aggressive style complement Garrett's versatility, making their team nearly unstoppable in the ring. The prize money will fund their continued research at the Blackwell Institute, where they work as junior Thaumarchaeologists under Dr. Reed. Their celebration is cut short when they receive an urgent message from Dr. Reed about a discovery related to Garrett's father.\n",
       "\n",
       "**Chapter:** 2\n",
       "\n",
       "At the Blackwell Institute, Dr. Reed reveals to Garrett and his friends a collection of artifacts recently discovered in Michael Brand's old workshop, including a mysterious device that seems to bridge magical and technological principles. The discovery forces Garrett to confront memories of his father's disappearance while trying to understand the significance of the finds. Dr. Reed's obvious anxiety about the discovery suggests he knows more than he's revealing. Meanwhile, security cameras catch Jason Black observing the proceedings from afar, reporting details back to his mother Vera. The team begins preliminary analysis of the artifacts, unaware they're being watched.\n",
       "\n",
       "**Chapter:** 3\n",
       "\n",
       "Marie Brand receives an unexpected visit from Vera Black at her quantum research facility, where the two engage in a tense conversation about Michael's old research. Vera's probing questions about Marie's current work reveal a dangerous interest in combining quantum mechanics with magic. Marie deflects the inquiries while secretly recognizing patterns that connect to her husband's final projects. Unknown to both women, Nora Hodges observes their interaction while running diagnostics in an adjacent lab. The encounter leaves Marie shaken and suspicious of Vera's sudden interest in her family's research.\n",
       "\n",
       "**Chapter:** 4\n",
       "\n",
       "Garrett, Brent, and Dillon spend a long night in Michael's workshop, piecing together clues from the newly discovered artifacts while sharing memories of their early days learning magic together. The workshop's preservation spells have kept everything exactly as Michael left it, including half-finished experiments that hint at groundbreaking discoveries. Their investigation is interrupted by a security breach that forces them to hide deeper in the workshop. They witness Jason Black methodically searching the space, though he fails to find what he's looking for. The incident convinces them that Michael's old research holds more value than they initially suspected.\n",
       "\n",
       "**Chapter:** 5\n",
       "\n",
       "Dr. Reed meets secretly with Gunter Mannheim in a private study at BITS, sharing concerns about the resurgence of interest in Michael's research while reviewing old documents about magical artifacts found in Prague. Their discussion reveals a deeper connection between Michael's work and ancient magical practices that could revolutionize modern thaumaturgy. Gunter warns Reed about Vera Black's growing influence in the archaeological community. The meeting ends with Reed deciding to give Garrett a personal item of his father's, knowing it will set certain events in motion.\n",
       "\n",
       "**Chapter:** 6\n",
       "\n",
       "During a formal academic ceremony at BITS, Dr. Reed publicly presents Garrett with his father's old focus crystal, using the occasion to make their mentor-student relationship official. The crystal, when activated, reveals hidden data that only Garrett can access due to his magical signature matching his father's. The discovery throws the ceremony into chaos as the crystal projects complex magical formulas throughout the hall. Vera Black observes from the audience, her presence making Dr. Reed increasingly nervous. The chapter ends with Garrett realizing the projected formulas match theoretical work his mother has been conducting at her quantum research facility.\n",
       "\n",
       "### Part 2\n",
       "\n",
       "**Chapter:** 7\n",
       "\n",
       "Garrett and his team gather in Marie's quantum research facility to analyze the data from Michael's crystal, discovering it contains encrypted research notes about combining quantum mechanics with magical theory. Marie recognizes elements of her own recent discoveries in Michael's notes, suggesting he had predicted the direction of her research years ago. The facility's specialized equipment allows them to decode more of the crystal's contents, revealing coordinates in Prague. Nora's expertise in quantum computing proves crucial in understanding the hybrid theories Michael was developing. The team decides to follow the coordinates, despite Dr. Reed's obvious reservations about their destination.\n",
       "\n",
       "**Chapter:** 8\n",
       "\n",
       "In Prague, the team meets with Gunter Mannheim, who reluctantly guides them through the city's magical history while sharing legends about Rabbi Loew's golem. Their exploration leads them to discover hidden sigils throughout the city's old Jewish quarter, forming a pattern only visible through magical detection. Vera Black's agents shadow their movements, reporting back their findings. Jason Black personally infiltrates their hotel rooms while they're out, discovering copies of Michael's decoded notes and sending them to his mother.\n",
       "\n",
       "**Chapter:** 9\n",
       "\n",
       "Garrett and Nora work together to decipher the sigil patterns, realizing they form an ancient programming language for magical automation. Their breakthrough is interrupted by a magical attack from unknown assailants, forcing them to flee through Prague's narrow streets. Brent and Dillon create a diversion, allowing Garrett and Nora to continue their research in a hidden location. The attack confirms they're on the right track, though they still don't understand why their discovery threatens anyone.\n",
       "\n",
       "**Chapter:** 10\n",
       "\n",
       "Vera Black arrives in Prague, establishing her base of operations in a luxurious hotel suite while coordinating efforts to obtain Michael's research. She sends Jason to make direct contact with Garrett's team, offering resources and protection in exchange for collaboration. The offer creates tension within the group, with Dillon advocating for acceptance while Brent remains suspicious. The chapter ends with Jason revealing to Garrett that he knows more about Michael's disappearance than he's been authorized to share.\n",
       "\n",
       "**Chapter:** 11\n",
       "\n",
       "The team follows the sigil trail to its source beneath the Old New Synagogue, discovering the Golem's Chamber with its intricate magical circuitry. Their exploration reveals that Rabbi Loew had created not just a golem, but a primitive form of magical artificial intelligence. Vera Black's forces surround the synagogue above, while Jason struggles with divided loyalties. The ancient chamber's defensive systems activate, trapping everyone inside.\n",
       "\n",
       "**Chapter:** 12\n",
       "\n",
       "As magical energy builds in the chamber, Garrett recognizes patterns matching his father's research, suggesting Michael had discovered this place years ago. The team races to understand the chamber's purpose while defending against Vera's attempts to breach its defenses. Jason chooses to help them, revealing that Vera possesses a device capable of negating magical abilities. The chamber's power surge peaks, revealing a hidden message from Michael Brand himself. The team realizes they've stumbled upon something far more significant than ancient history.\n",
       "\n",
       "### Part 3\n",
       "\n",
       "**Chapter:** 13\n",
       "\n",
       "Vera Black makes her grand entrance into the chamber, revealing her decades-long manipulation of magical research and her connection to Michael Brand's disappearance. The confrontation forces Jason to question everything he believed about his mother's work and his own past. Garrett and his team discover they're trapped between Vera's forces and the chamber's increasingly unstable magical energy. Dr. Reed arrives unexpectedly, having followed them from Prague, and his presence changes the power dynamic in the chamber. The standoff ends with a magical explosion that scatters all parties and reveals a hidden level beneath the chamber.\n",
       "\n",
       "**Chapter:** 14\n",
       "\n",
       "While recovering from the explosion, Jason confronts Vera about his true parentage, learning devastating truths about her involvement in Michael Brand's disappearance. The revelation causes Jason to secretly reach out to Garrett's team, sharing crucial information about Vera's plans. Nora works to verify Jason's claims while Brent and Dillon prepare defensive measures against another attack. The team realizes they need to combine their knowledge of quantum mechanics, modern magic, and ancient sigils to understand what they're facing.\n",
       "\n",
       "**Chapter:** 15\n",
       "\n",
       "Marie Brand makes a breakthrough in her quantum research, recognizing patterns that match both Michael's notes and the ancient sigils. Her discovery draws unwanted attention from Vera's agents, forcing her to go into hiding with Dr. Reed's help. The two old friends share theories about Michael's final project while evading pursuit. Their collaboration leads to a crucial understanding of how quantum mechanics could be used to program magical effects.\n",
       "\n",
       "**Chapter:** 16\n",
       "\n",
       "Garrett and Jason forge an uneasy alliance, their combined knowledge of their father's work providing insights neither had alone. The two brothers work together to decode the remaining encrypted data while their friends run interference against Vera's forces. Their breakthrough reveals the true purpose of the Golem - not just a magical construct, but a bridge between technology and magic. The chapter ends with them realizing they need to return to the chamber, despite the risks.\n",
       "\n",
       "**Chapter:** 17\n",
       "\n",
       "Vera Black reveals her ultimate plan to the inner circle of her organization - using sigil technology to control who can access magic, effectively making her the gatekeeper of magical ability. Her demonstration of the magic negation device sends shockwaves through the magical community. Jason secretly records the meeting, providing evidence of her intentions to Garrett's team. The group realizes they're running out of time to stop her plan from being implemented.\n",
       "\n",
       "**Chapter:** 18\n",
       "\n",
       "The team launches a desperate plan to infiltrate Vera's headquarters and steal the magic negation device. Their attempt goes awry when they discover Vera anticipated their move, leading to a magical confrontation that tears through multiple floors of her building. Jason's divided loyalties reach a breaking point as he must choose between his mother and his newfound brother. The chapter ends with the team's narrow escape, though they've learned crucial information about how the negation device works.\n",
       "\n",
       "### Part 4\n",
       "\n",
       "**Chapter:** 19\n",
       "\n",
       "Marie and Garrett work together in her quantum facility, combining their knowledge of physics and magic to understand the true nature of sigils. Their breakthrough comes when they realize sigils are a form of quantum programming language for magic, explaining why they can store and execute magical commands. The discovery leads them to understand how the Golem achieved consciousness through quantum effects in its magical programming. Vera's forces launch an attack on the facility, forcing them to evacuate with their research. The chapter ends with mother and son realizing they need to reactivate the Golem to counter Vera's plans.\n",
       "\n",
       "**Chapter:** 20\n",
       "\n",
       "Brent, Dillon, and Jason coordinate a complex defensive strategy against Vera's agents, buying time for Garrett and Nora to return to Prague. The three duelists use their competition experience to set up elaborate magical traps throughout the city. Their efforts draw attention away from the real objective while testing the limits of their abilities and trust in each other. The chapter culminates in a spectacular magical battle across Prague's rooftops, with Jason proving his loyalty to his new allies.\n",
       "\n",
       "**Chapter:** 21\n",
       "\n",
       "Garrett and Nora descend into the Golem's Chamber, armed with their new understanding of sigil magic and quantum theory. The chamber responds to their presence differently now, its sigils resonating with their combined magical and technological approach. Ancient defenses recognize Garrett's magical signature as matching his father's, revealing new aspects of the chamber. The two work together to decipher the final pieces of the Golem's activation sequence. Their efforts trigger an unexpected response from the chamber's deepest systems.\n",
       "\n",
       "**Chapter:** 22\n",
       "\n",
       "The Golem awakens, its consciousness emerging gradually as it recognizes Garrett's magical signature. Through the Golem, they learn the true extent of Michael Brand's discoveries and why Vera feared them so much. The ancient construct reveals its original purpose was to bridge the divide between magic users and non-magic users, threatening the power structure Vera seeks to maintain. The chamber's defenses activate automatically as Vera's forces begin their final assault.\n",
       "\n",
       "**Chapter:** 23\n",
       "\n",
       "Vera breaches the chamber's outer defenses with her magic negation device, leading to a confrontation that tests the limits of both technology and magic. The Golem recognizes the threat to its purpose and begins implementing countermeasures written into its core programming. Jason arrives with crucial information about the negation device's weaknesses, having finally pieced together his mother's full plan. The team realizes they have one chance to stop Vera before she can use the device to reshape the magical world.\n",
       "\n",
       "**Chapter:** 24\n",
       "\n",
       "The chamber becomes a battlefield as multiple parties converge, with the Golem's ancient defenses engaging Vera's modern magical technology. Garrett and his allies coordinate their efforts to protect the Golem while it works to neutralize the negation device. The Golem reveals it must sacrifice its own existence to destroy the device permanently, having been programmed with this contingency by Michael Brand. The team races to download as much of the Golem's knowledge as possible before the final confrontation. Everything builds to a climactic moment as ancient magic meets modern technology in a spectacular collision.\n",
       "\n",
       "### Part 5\n",
       "\n",
       "**Chapter:** 25\n",
       "\n",
       "In the aftermath of the Golem's sacrifice, Garrett and his team assess the damage to the chamber while beginning to understand the full implications of their discovery. The ancient chamber, though partially destroyed, reveals new secrets through its damaged walls, including hidden repositories of magical knowledge. Marie and Dr. Reed work together to document everything they can about the Golem's final moments, knowing its sacrifice has changed the future of magic forever. The team realizes that Vera escaped in the chaos, taking with her dangerous knowledge about sigil technology.\n",
       "\n",
       "**Chapter:** 26\n",
       "\n",
       "Jason struggles with the aftermath of his mother's disappearance while helping the team secure their discoveries. The group begins to understand how the Golem's sacrifice has affected the magical world, as reports come in of subtle changes in how magic behaves. Garrett and Jason start to forge a genuine brotherhood, bonding over their shared loss and determination to continue their father's work. The magical community begins to buzz with rumors about what happened in Prague.\n",
       "\n",
       "**Chapter:** 27\n",
       "\n",
       "At the Blackwell Institute, the team presents their findings to a select group of magical researchers and academics, carefully controlling how much they reveal about sigil technology. Their presentation sparks intense debate about the future relationship between magic and technology, with some celebrating and others fearing the implications. Dr. Reed advocates for a measured approach to implementing their discoveries, drawing on lessons from the past. The chapter ends with the team receiving news about unusual magical phenomena occurring worldwide.\n",
       "\n",
       "**Chapter:** 28\n",
       "\n",
       "Marie and Nora lead efforts to adapt quantum computing systems to work with sigil magic, making breakthroughs that suggest a new era of hybrid magical-technological development. Their work attracts attention from both the magical and scientific communities, forcing them to carefully consider who they can trust with their discoveries. The team establishes new security protocols, aware that Vera might still pose a threat. They begin to see positive applications for their discoveries in both magical and non-magical contexts.\n",
       "\n",
       "**Chapter:** 29\n",
       "\n",
       "Garrett, Brent, and Dillon return to the underground dueling scene, but with a new purpose - testing the practical applications of sigil-enhanced magic in controlled conditions. Their experiments reveal both the potential and limitations of the new technology, while also helping them stay connected to the magical community's grassroots. The dueling circuit becomes a testing ground for new ideas about how magic might evolve. Their activities draw others who share their vision for a more inclusive magical future.\n",
       "\n",
       "**Chapter:** 30\n",
       "\n",
       "The team gathers in Michael Brand's workshop, now restored and repurposed as their research headquarters, to plan their next steps. They establish a foundation to guide the development of sigil technology, determined to prevent it from being monopolized or misused. Jason discovers a final message from their father hidden in the workshop's preservation spells, providing closure and direction for the future. The novel ends with the team realizing they've only scratched the surface of what's possible with their discoveries, while somewhere in the shadows, Vera Black begins plotting her return.\n",
       "\n"
      ],
      "text/plain": [
       "<IPython.core.display.Markdown object>"
      ]
     },
     "execution_count": 120,
     "metadata": {},
     "output_type": "execute_result"
    }
   ],
   "source": [
    "plot = novel_data[\"plot\"]\n",
    "plot = json.loads(plot)\n",
    "plot_md = \"\"\n",
    "chapter_count = 1\n",
    "for p in plot:\n",
    "    plot_md += \"### Part \" + str(p[\"part-number\"]) + \"\\n\\n\"\n",
    "    for chapter in p[\"chapter-descriptions\"]:\n",
    "        plot_md += \"**Chapter:** \" + str(chapter_count) + \"\\n\\n\"\n",
    "        plot_md += chapter + \"\\n\\n\"\n",
    "        chapter_count += 1\n",
    "IPython.display.Markdown(plot_md)"
   ]
  },
  {
   "cell_type": "code",
   "execution_count": null,
   "id": "e426314b-5f64-4ead-b183-8db7de9b5263",
   "metadata": {},
   "outputs": [],
   "source": []
  }
 ],
 "metadata": {
  "kernelspec": {
   "display_name": "Python 3 (ipykernel)",
   "language": "python",
   "name": "python3"
  },
  "language_info": {
   "codemirror_mode": {
    "name": "ipython",
    "version": 3
   },
   "file_extension": ".py",
   "mimetype": "text/x-python",
   "name": "python",
   "nbconvert_exporter": "python",
   "pygments_lexer": "ipython3",
   "version": "3.11.10"
  }
 },
 "nbformat": 4,
 "nbformat_minor": 5
}
